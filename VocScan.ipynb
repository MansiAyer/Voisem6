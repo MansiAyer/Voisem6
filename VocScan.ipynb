{
 "cells": [
  {
   "cell_type": "code",
   "execution_count": 1,
   "metadata": {},
   "outputs": [
    {
     "name": "stdout",
     "output_type": "stream",
     "text": [
      "completed step\n"
     ]
    }
   ],
   "source": [
    "import librosa\n",
    "import pandas as pd\n",
    "import IPython.display as ipd\n",
    "import numpy as np\n",
    "import tensorflow as tf\n",
    "from tensorflow import keras\n",
    "model = keras.models.load_model('mymodel')\n",
    "#specifying labels of emotion, reuired for classes\n",
    "emotionMap = {0:'neutral', 1:'calm', 2:'happy', 3:'sad', 4:'angry', 5:'fear', 6:'disgust', 7:'surprise'}\n",
    "print('completed step')"
   ]
  },
  {
   "cell_type": "code",
   "execution_count": 2,
   "metadata": {},
   "outputs": [
    {
     "data": {
      "text/html": [
       "<div>\n",
       "<style scoped>\n",
       "    .dataframe tbody tr th:only-of-type {\n",
       "        vertical-align: middle;\n",
       "    }\n",
       "\n",
       "    .dataframe tbody tr th {\n",
       "        vertical-align: top;\n",
       "    }\n",
       "\n",
       "    .dataframe thead th {\n",
       "        text-align: right;\n",
       "    }\n",
       "</style>\n",
       "<table border=\"1\" class=\"dataframe\">\n",
       "  <thead>\n",
       "    <tr style=\"text-align: right;\">\n",
       "      <th></th>\n",
       "      <th>0</th>\n",
       "      <th>1</th>\n",
       "      <th>2</th>\n",
       "      <th>3</th>\n",
       "      <th>4</th>\n",
       "      <th>5</th>\n",
       "      <th>6</th>\n",
       "      <th>7</th>\n",
       "      <th>8</th>\n",
       "      <th>9</th>\n",
       "      <th>...</th>\n",
       "      <th>232</th>\n",
       "      <th>233</th>\n",
       "      <th>234</th>\n",
       "      <th>235</th>\n",
       "      <th>236</th>\n",
       "      <th>237</th>\n",
       "      <th>238</th>\n",
       "      <th>239</th>\n",
       "      <th>240</th>\n",
       "      <th>241</th>\n",
       "    </tr>\n",
       "  </thead>\n",
       "  <tbody>\n",
       "    <tr>\n",
       "      <td>0</td>\n",
       "      <td>-76.382431</td>\n",
       "      <td>-76.002144</td>\n",
       "      <td>-75.831741</td>\n",
       "      <td>-75.860176</td>\n",
       "      <td>-75.761444</td>\n",
       "      <td>-75.704781</td>\n",
       "      <td>-75.987495</td>\n",
       "      <td>-75.849747</td>\n",
       "      <td>-75.909241</td>\n",
       "      <td>-75.872452</td>\n",
       "      <td>...</td>\n",
       "      <td>-75.98243</td>\n",
       "      <td>-75.843842</td>\n",
       "      <td>-75.743576</td>\n",
       "      <td>-76.12011</td>\n",
       "      <td>-75.903351</td>\n",
       "      <td>-75.858574</td>\n",
       "      <td>-75.996353</td>\n",
       "      <td>-75.947311</td>\n",
       "      <td>-76.35714</td>\n",
       "      <td>-76.382431</td>\n",
       "    </tr>\n",
       "  </tbody>\n",
       "</table>\n",
       "<p>1 rows × 242 columns</p>\n",
       "</div>"
      ],
      "text/plain": [
       "         0          1          2          3          4          5    \\\n",
       "0 -76.382431 -76.002144 -75.831741 -75.860176 -75.761444 -75.704781   \n",
       "\n",
       "         6          7          8          9    ...       232        233  \\\n",
       "0 -75.987495 -75.849747 -75.909241 -75.872452  ... -75.98243 -75.843842   \n",
       "\n",
       "         234       235        236        237        238        239       240  \\\n",
       "0 -75.743576 -76.12011 -75.903351 -75.858574 -75.996353 -75.947311 -76.35714   \n",
       "\n",
       "         241  \n",
       "0 -76.382431  \n",
       "\n",
       "[1 rows x 242 columns]"
      ]
     },
     "execution_count": 2,
     "metadata": {},
     "output_type": "execute_result"
    }
   ],
   "source": [
    "#load test sample\n",
    "path = 'Train/audio/FirstAudio.wav'\n",
    "X, sample_rate = librosa.load(path, res_type='kaiser_fast',duration=3,sr=44100,offset=0.5)\n",
    "\n",
    "#obtain mel spectrograph\n",
    "df = pd.DataFrame(columns=['mel_spectrogram'])\n",
    "spectrogram = librosa.feature.melspectrogram(y=X, sr=sample_rate, n_mels=128,fmax=8000) \n",
    "db_spec = librosa.power_to_db(spectrogram)\n",
    "log_spectrogram = np.mean(db_spec, axis = 0)\n",
    "df.loc[0] = [log_spectrogram] \n",
    "df = pd.DataFrame(df['mel_spectrogram'].values.tolist())\n",
    "df.head()"
   ]
  },
  {
   "cell_type": "code",
   "execution_count": 3,
   "metadata": {},
   "outputs": [
    {
     "name": "stdout",
     "output_type": "stream",
     "text": [
      "[242 243 244 245 246 247 248 249 250 251 252 253 254 255 256 257 258 259\n",
      " 260 261]\n"
     ]
    },
    {
     "data": {
      "text/html": [
       "<div>\n",
       "<style scoped>\n",
       "    .dataframe tbody tr th:only-of-type {\n",
       "        vertical-align: middle;\n",
       "    }\n",
       "\n",
       "    .dataframe tbody tr th {\n",
       "        vertical-align: top;\n",
       "    }\n",
       "\n",
       "    .dataframe thead th {\n",
       "        text-align: right;\n",
       "    }\n",
       "</style>\n",
       "<table border=\"1\" class=\"dataframe\">\n",
       "  <thead>\n",
       "    <tr style=\"text-align: right;\">\n",
       "      <th></th>\n",
       "      <th>0</th>\n",
       "      <th>1</th>\n",
       "      <th>2</th>\n",
       "      <th>3</th>\n",
       "      <th>4</th>\n",
       "      <th>5</th>\n",
       "      <th>6</th>\n",
       "      <th>7</th>\n",
       "      <th>8</th>\n",
       "      <th>9</th>\n",
       "      <th>...</th>\n",
       "      <th>252</th>\n",
       "      <th>253</th>\n",
       "      <th>254</th>\n",
       "      <th>255</th>\n",
       "      <th>256</th>\n",
       "      <th>257</th>\n",
       "      <th>258</th>\n",
       "      <th>259</th>\n",
       "      <th>260</th>\n",
       "      <th>261</th>\n",
       "    </tr>\n",
       "  </thead>\n",
       "  <tbody>\n",
       "    <tr>\n",
       "      <td>0</td>\n",
       "      <td>-76.382431</td>\n",
       "      <td>-76.002144</td>\n",
       "      <td>-75.831741</td>\n",
       "      <td>-75.860176</td>\n",
       "      <td>-75.761444</td>\n",
       "      <td>-75.704781</td>\n",
       "      <td>-75.987495</td>\n",
       "      <td>-75.849747</td>\n",
       "      <td>-75.909241</td>\n",
       "      <td>-75.872452</td>\n",
       "      <td>...</td>\n",
       "      <td>0</td>\n",
       "      <td>0</td>\n",
       "      <td>0</td>\n",
       "      <td>0</td>\n",
       "      <td>0</td>\n",
       "      <td>0</td>\n",
       "      <td>0</td>\n",
       "      <td>0</td>\n",
       "      <td>0</td>\n",
       "      <td>0</td>\n",
       "    </tr>\n",
       "  </tbody>\n",
       "</table>\n",
       "<p>1 rows × 262 columns</p>\n",
       "</div>"
      ],
      "text/plain": [
       "         0          1          2          3          4          5    \\\n",
       "0 -76.382431 -76.002144 -75.831741 -75.860176 -75.761444 -75.704781   \n",
       "\n",
       "         6          7          8          9    ...  252  253  254  255  256  \\\n",
       "0 -75.987495 -75.849747 -75.909241 -75.872452  ...    0    0    0    0    0   \n",
       "\n",
       "   257  258  259  260  261  \n",
       "0    0    0    0    0    0  \n",
       "\n",
       "[1 rows x 262 columns]"
      ]
     },
     "execution_count": 3,
     "metadata": {},
     "output_type": "execute_result"
    }
   ],
   "source": [
    "colstest = np.arange(242,262,1)\n",
    "print(colstest) \n",
    "dftest = pd.DataFrame(index=np.arange(1), columns=colstest)\n",
    "dftest = dftest.fillna(0) \n",
    "df = pd.concat([df,dftest],axis=1) \n",
    "df.head()"
   ]
  },
  {
   "cell_type": "code",
   "execution_count": 4,
   "metadata": {},
   "outputs": [
    {
     "name": "stdout",
     "output_type": "stream",
     "text": [
      "(1, 259)\n"
     ]
    }
   ],
   "source": [
    "#formatting data as required to pass to model for prediction\n",
    "x_log = df.iloc[:, 3:]\n",
    "x_log=np.array(x_log)\n",
    "print(x_log.shape)\n",
    "sample = x_log[:,:,np.newaxis]"
   ]
  },
  {
   "cell_type": "code",
   "execution_count": 5,
   "metadata": {},
   "outputs": [
    {
     "name": "stdout",
     "output_type": "stream",
     "text": [
      "      0\n",
      "0  calm\n"
     ]
    }
   ],
   "source": [
    "#display prediction\n",
    "predictions = model.predict(sample)\n",
    "classes = pd.DataFrame(np.argmax(predictions, axis = 1))\n",
    "print(classes.replace(emotionMap))"
   ]
  },
  {
   "cell_type": "code",
   "execution_count": null,
   "metadata": {},
   "outputs": [],
   "source": []
  }
 ],
 "metadata": {
  "kernelspec": {
   "display_name": "Python 3",
   "language": "python",
   "name": "python3"
  },
  "language_info": {
   "codemirror_mode": {
    "name": "ipython",
    "version": 3
   },
   "file_extension": ".py",
   "mimetype": "text/x-python",
   "name": "python",
   "nbconvert_exporter": "python",
   "pygments_lexer": "ipython3",
   "version": "3.7.4"
  }
 },
 "nbformat": 4,
 "nbformat_minor": 2
}
